{
 "cells": [
  {
   "cell_type": "markdown",
   "id": "2a852006",
   "metadata": {},
   "source": [
    "# INST 414 Final Project - Video Game Genre Classification\n",
    "#### Jim Chen, Christopher Aguila, Nicholas Koy, Gerald Reyes, Kaveh Vakili"
   ]
  },
  {
   "cell_type": "markdown",
   "id": "a915684e",
   "metadata": {},
   "source": [
    "# Exploratory Data Analysis"
   ]
  },
  {
   "cell_type": "code",
   "execution_count": 68,
   "id": "3e1f2239",
   "metadata": {},
   "outputs": [
    {
     "data": {
      "text/html": [
       "<div>\n",
       "<style scoped>\n",
       "    .dataframe tbody tr th:only-of-type {\n",
       "        vertical-align: middle;\n",
       "    }\n",
       "\n",
       "    .dataframe tbody tr th {\n",
       "        vertical-align: top;\n",
       "    }\n",
       "\n",
       "    .dataframe thead th {\n",
       "        text-align: right;\n",
       "    }\n",
       "</style>\n",
       "<table border=\"1\" class=\"dataframe\">\n",
       "  <thead>\n",
       "    <tr style=\"text-align: right;\">\n",
       "      <th></th>\n",
       "      <th>Rank</th>\n",
       "      <th>Name</th>\n",
       "      <th>Platform</th>\n",
       "      <th>Year</th>\n",
       "      <th>Genre</th>\n",
       "      <th>Publisher</th>\n",
       "      <th>NA_Sales</th>\n",
       "      <th>EU_Sales</th>\n",
       "      <th>JP_Sales</th>\n",
       "      <th>Other_Sales</th>\n",
       "      <th>Global_Sales</th>\n",
       "    </tr>\n",
       "  </thead>\n",
       "  <tbody>\n",
       "    <tr>\n",
       "      <th>0</th>\n",
       "      <td>1</td>\n",
       "      <td>Wii Sports</td>\n",
       "      <td>Wii</td>\n",
       "      <td>2006.0</td>\n",
       "      <td>Sports</td>\n",
       "      <td>Nintendo</td>\n",
       "      <td>41.49</td>\n",
       "      <td>29.02</td>\n",
       "      <td>3.77</td>\n",
       "      <td>8.46</td>\n",
       "      <td>82.74</td>\n",
       "    </tr>\n",
       "    <tr>\n",
       "      <th>1</th>\n",
       "      <td>2</td>\n",
       "      <td>Super Mario Bros.</td>\n",
       "      <td>NES</td>\n",
       "      <td>1985.0</td>\n",
       "      <td>Platform</td>\n",
       "      <td>Nintendo</td>\n",
       "      <td>29.08</td>\n",
       "      <td>3.58</td>\n",
       "      <td>6.81</td>\n",
       "      <td>0.77</td>\n",
       "      <td>40.24</td>\n",
       "    </tr>\n",
       "    <tr>\n",
       "      <th>2</th>\n",
       "      <td>3</td>\n",
       "      <td>Mario Kart Wii</td>\n",
       "      <td>Wii</td>\n",
       "      <td>2008.0</td>\n",
       "      <td>Racing</td>\n",
       "      <td>Nintendo</td>\n",
       "      <td>15.85</td>\n",
       "      <td>12.88</td>\n",
       "      <td>3.79</td>\n",
       "      <td>3.31</td>\n",
       "      <td>35.82</td>\n",
       "    </tr>\n",
       "    <tr>\n",
       "      <th>3</th>\n",
       "      <td>4</td>\n",
       "      <td>Wii Sports Resort</td>\n",
       "      <td>Wii</td>\n",
       "      <td>2009.0</td>\n",
       "      <td>Sports</td>\n",
       "      <td>Nintendo</td>\n",
       "      <td>15.75</td>\n",
       "      <td>11.01</td>\n",
       "      <td>3.28</td>\n",
       "      <td>2.96</td>\n",
       "      <td>33.00</td>\n",
       "    </tr>\n",
       "    <tr>\n",
       "      <th>4</th>\n",
       "      <td>5</td>\n",
       "      <td>Pokemon Red/Pokemon Blue</td>\n",
       "      <td>GB</td>\n",
       "      <td>1996.0</td>\n",
       "      <td>Role-Playing</td>\n",
       "      <td>Nintendo</td>\n",
       "      <td>11.27</td>\n",
       "      <td>8.89</td>\n",
       "      <td>10.22</td>\n",
       "      <td>1.00</td>\n",
       "      <td>31.37</td>\n",
       "    </tr>\n",
       "  </tbody>\n",
       "</table>\n",
       "</div>"
      ],
      "text/plain": [
       "   Rank                      Name Platform    Year         Genre Publisher  \\\n",
       "0     1                Wii Sports      Wii  2006.0        Sports  Nintendo   \n",
       "1     2         Super Mario Bros.      NES  1985.0      Platform  Nintendo   \n",
       "2     3            Mario Kart Wii      Wii  2008.0        Racing  Nintendo   \n",
       "3     4         Wii Sports Resort      Wii  2009.0        Sports  Nintendo   \n",
       "4     5  Pokemon Red/Pokemon Blue       GB  1996.0  Role-Playing  Nintendo   \n",
       "\n",
       "   NA_Sales  EU_Sales  JP_Sales  Other_Sales  Global_Sales  \n",
       "0     41.49     29.02      3.77         8.46         82.74  \n",
       "1     29.08      3.58      6.81         0.77         40.24  \n",
       "2     15.85     12.88      3.79         3.31         35.82  \n",
       "3     15.75     11.01      3.28         2.96         33.00  \n",
       "4     11.27      8.89     10.22         1.00         31.37  "
      ]
     },
     "execution_count": 68,
     "metadata": {},
     "output_type": "execute_result"
    }
   ],
   "source": [
    "import pandas as pd\n",
    "import seaborn as sns\n",
    "\n",
    "vgsales = pd.read_csv('vgsales.csv')\n",
    "vgsales.head()"
   ]
  },
  {
   "cell_type": "code",
   "execution_count": 2,
   "id": "87dfeb9b",
   "metadata": {},
   "outputs": [
    {
     "name": "stdout",
     "output_type": "stream",
     "text": [
      "(16598, 11)\n"
     ]
    }
   ],
   "source": [
    "print(vgsales.shape)"
   ]
  },
  {
   "cell_type": "code",
   "execution_count": 3,
   "id": "43d55c99",
   "metadata": {},
   "outputs": [
    {
     "data": {
      "text/html": [
       "<div>\n",
       "<style scoped>\n",
       "    .dataframe tbody tr th:only-of-type {\n",
       "        vertical-align: middle;\n",
       "    }\n",
       "\n",
       "    .dataframe tbody tr th {\n",
       "        vertical-align: top;\n",
       "    }\n",
       "\n",
       "    .dataframe thead th {\n",
       "        text-align: right;\n",
       "    }\n",
       "</style>\n",
       "<table border=\"1\" class=\"dataframe\">\n",
       "  <thead>\n",
       "    <tr style=\"text-align: right;\">\n",
       "      <th></th>\n",
       "      <th>Rank</th>\n",
       "      <th>Year</th>\n",
       "      <th>NA_Sales</th>\n",
       "      <th>EU_Sales</th>\n",
       "      <th>JP_Sales</th>\n",
       "      <th>Other_Sales</th>\n",
       "      <th>Global_Sales</th>\n",
       "    </tr>\n",
       "  </thead>\n",
       "  <tbody>\n",
       "    <tr>\n",
       "      <th>count</th>\n",
       "      <td>16598.000000</td>\n",
       "      <td>16327.000000</td>\n",
       "      <td>16598.000000</td>\n",
       "      <td>16598.000000</td>\n",
       "      <td>16598.000000</td>\n",
       "      <td>16598.000000</td>\n",
       "      <td>16598.000000</td>\n",
       "    </tr>\n",
       "    <tr>\n",
       "      <th>mean</th>\n",
       "      <td>8300.605254</td>\n",
       "      <td>2006.406443</td>\n",
       "      <td>0.264667</td>\n",
       "      <td>0.146652</td>\n",
       "      <td>0.077782</td>\n",
       "      <td>0.048063</td>\n",
       "      <td>0.537441</td>\n",
       "    </tr>\n",
       "    <tr>\n",
       "      <th>std</th>\n",
       "      <td>4791.853933</td>\n",
       "      <td>5.828981</td>\n",
       "      <td>0.816683</td>\n",
       "      <td>0.505351</td>\n",
       "      <td>0.309291</td>\n",
       "      <td>0.188588</td>\n",
       "      <td>1.555028</td>\n",
       "    </tr>\n",
       "    <tr>\n",
       "      <th>min</th>\n",
       "      <td>1.000000</td>\n",
       "      <td>1980.000000</td>\n",
       "      <td>0.000000</td>\n",
       "      <td>0.000000</td>\n",
       "      <td>0.000000</td>\n",
       "      <td>0.000000</td>\n",
       "      <td>0.010000</td>\n",
       "    </tr>\n",
       "    <tr>\n",
       "      <th>25%</th>\n",
       "      <td>4151.250000</td>\n",
       "      <td>2003.000000</td>\n",
       "      <td>0.000000</td>\n",
       "      <td>0.000000</td>\n",
       "      <td>0.000000</td>\n",
       "      <td>0.000000</td>\n",
       "      <td>0.060000</td>\n",
       "    </tr>\n",
       "    <tr>\n",
       "      <th>50%</th>\n",
       "      <td>8300.500000</td>\n",
       "      <td>2007.000000</td>\n",
       "      <td>0.080000</td>\n",
       "      <td>0.020000</td>\n",
       "      <td>0.000000</td>\n",
       "      <td>0.010000</td>\n",
       "      <td>0.170000</td>\n",
       "    </tr>\n",
       "    <tr>\n",
       "      <th>75%</th>\n",
       "      <td>12449.750000</td>\n",
       "      <td>2010.000000</td>\n",
       "      <td>0.240000</td>\n",
       "      <td>0.110000</td>\n",
       "      <td>0.040000</td>\n",
       "      <td>0.040000</td>\n",
       "      <td>0.470000</td>\n",
       "    </tr>\n",
       "    <tr>\n",
       "      <th>max</th>\n",
       "      <td>16600.000000</td>\n",
       "      <td>2020.000000</td>\n",
       "      <td>41.490000</td>\n",
       "      <td>29.020000</td>\n",
       "      <td>10.220000</td>\n",
       "      <td>10.570000</td>\n",
       "      <td>82.740000</td>\n",
       "    </tr>\n",
       "  </tbody>\n",
       "</table>\n",
       "</div>"
      ],
      "text/plain": [
       "               Rank          Year      NA_Sales      EU_Sales      JP_Sales  \\\n",
       "count  16598.000000  16327.000000  16598.000000  16598.000000  16598.000000   \n",
       "mean    8300.605254   2006.406443      0.264667      0.146652      0.077782   \n",
       "std     4791.853933      5.828981      0.816683      0.505351      0.309291   \n",
       "min        1.000000   1980.000000      0.000000      0.000000      0.000000   \n",
       "25%     4151.250000   2003.000000      0.000000      0.000000      0.000000   \n",
       "50%     8300.500000   2007.000000      0.080000      0.020000      0.000000   \n",
       "75%    12449.750000   2010.000000      0.240000      0.110000      0.040000   \n",
       "max    16600.000000   2020.000000     41.490000     29.020000     10.220000   \n",
       "\n",
       "        Other_Sales  Global_Sales  \n",
       "count  16598.000000  16598.000000  \n",
       "mean       0.048063      0.537441  \n",
       "std        0.188588      1.555028  \n",
       "min        0.000000      0.010000  \n",
       "25%        0.000000      0.060000  \n",
       "50%        0.010000      0.170000  \n",
       "75%        0.040000      0.470000  \n",
       "max       10.570000     82.740000  "
      ]
     },
     "execution_count": 3,
     "metadata": {},
     "output_type": "execute_result"
    }
   ],
   "source": [
    "vgsales.describe()"
   ]
  },
  {
   "cell_type": "code",
   "execution_count": 4,
   "id": "a9fc6178",
   "metadata": {},
   "outputs": [
    {
     "data": {
      "text/plain": [
       "Rank            16598\n",
       "Name            11493\n",
       "Platform           31\n",
       "Year               39\n",
       "Genre              12\n",
       "Publisher         578\n",
       "NA_Sales          409\n",
       "EU_Sales          305\n",
       "JP_Sales          244\n",
       "Other_Sales       157\n",
       "Global_Sales      623\n",
       "dtype: int64"
      ]
     },
     "execution_count": 4,
     "metadata": {},
     "output_type": "execute_result"
    }
   ],
   "source": [
    "vgsales.nunique()"
   ]
  },
  {
   "cell_type": "markdown",
   "id": "24c0e525",
   "metadata": {},
   "source": [
    "### Missing Values\n",
    "year: 271 missing\n",
    "\n",
    "publisher: 58 missing\n",
    "\n",
    "The missing years and publishers may be problematic so these rows with missing values will be removed"
   ]
  },
  {
   "cell_type": "code",
   "execution_count": 5,
   "id": "5d5ca770",
   "metadata": {},
   "outputs": [
    {
     "data": {
      "text/plain": [
       "Rank              0\n",
       "Name              0\n",
       "Platform          0\n",
       "Year            271\n",
       "Genre             0\n",
       "Publisher        58\n",
       "NA_Sales          0\n",
       "EU_Sales          0\n",
       "JP_Sales          0\n",
       "Other_Sales       0\n",
       "Global_Sales      0\n",
       "dtype: int64"
      ]
     },
     "execution_count": 5,
     "metadata": {},
     "output_type": "execute_result"
    }
   ],
   "source": [
    "vgsales.isnull().sum()"
   ]
  },
  {
   "cell_type": "code",
   "execution_count": 6,
   "id": "b3999fed",
   "metadata": {},
   "outputs": [],
   "source": [
    "vgsales = vgsales.dropna()"
   ]
  },
  {
   "cell_type": "markdown",
   "id": "3dd43331",
   "metadata": {},
   "source": [
    "### Correlation\n",
    "we want to avoid strong collinearity between independent variables as they would be hard to weight in the predictor\n",
    "All the sales seem highly correlated, so we will just use global_sales as the only sales predictor and also rank and year because there is no collinearity problem.\n"
   ]
  },
  {
   "cell_type": "code",
   "execution_count": 7,
   "id": "aaaa6480",
   "metadata": {},
   "outputs": [],
   "source": [
    "corr = vgsales.corr()"
   ]
  },
  {
   "cell_type": "code",
   "execution_count": 8,
   "id": "f32a4cd0",
   "metadata": {},
   "outputs": [
    {
     "data": {
      "text/plain": [
       "<AxesSubplot:>"
      ]
     },
     "execution_count": 8,
     "metadata": {},
     "output_type": "execute_result"
    },
    {
     "data": {
      "image/png": "[encoded data removed]",
      "text/plain": [
       "<Figure size 432x288 with 2 Axes>"
      ]
     },
     "metadata": {
      "needs_background": "light"
     },
     "output_type": "display_data"
    }
   ],
   "source": [
    "sns.heatmap(corr, annot=True)"
   ]
  },
  {
   "cell_type": "code",
   "execution_count": 9,
   "id": "e4381009",
   "metadata": {},
   "outputs": [
    {
     "data": {
      "text/plain": [
       "<seaborn.axisgrid.PairGrid at 0x1927f1e8f10>"
      ]
     },
     "execution_count": 9,
     "metadata": {},
     "output_type": "execute_result"
    },
    {
     "data": {
      "image/png": "[encoded data removed]",
      "text/plain": [
       "<Figure size 540x540 with 12 Axes>"
      ]
     },
     "metadata": {
      "needs_background": "light"
     },
     "output_type": "display_data"
    }
   ],
   "source": [
    "# dropping all sales except - global\n",
    "# seaborn pairplot is computationally expensive and might take a bit of time\n",
    "vgsales = vgsales.drop(['NA_Sales', 'EU_Sales', 'JP_Sales', 'Other_Sales'], axis = 1)\n",
    "sns.pairplot(vgsales)"
   ]
  },
  {
   "cell_type": "code",
   "execution_count": 69,
   "id": "f7d540e4",
   "metadata": {},
   "outputs": [
    {
     "data": {
      "text/plain": [
       "<AxesSubplot:xlabel='Genre'>"
      ]
     },
     "execution_count": 69,
     "metadata": {},
     "output_type": "execute_result"
    },
    {
     "data": {
      "image/png": "[encoded data removed]",
      "text/plain": [
       "<Figure size 432x288 with 1 Axes>"
      ]
     },
     "metadata": {
      "needs_background": "light"
     },
     "output_type": "display_data"
    }
   ],
   "source": [
    "#Distribution of genres\n",
    "\n",
    "vgsales_genre_counts = vgsales[[\"Genre\", \"Rank\"]].groupby([\"Genre\"]).agg(\"count\")\n",
    "vgsales_genre_counts = vgsales_genre_counts.reset_index()\n",
    "vgsales_genre_counts.columns = ['Genre', 'Count']\n",
    "vgsales_genre_counts.plot.bar(x='Genre')"
   ]
  },
  {
   "cell_type": "markdown",
   "id": "f25a8d68",
   "metadata": {},
   "source": [
    "# Classification"
   ]
  },
  {
   "cell_type": "markdown",
   "id": "15c4a39b",
   "metadata": {},
   "source": [
    "## Logistic Regression"
   ]
  },
  {
   "cell_type": "markdown",
   "id": "7f4fa073",
   "metadata": {},
   "source": [
    "Question to be answered with Logistic Regression:  How accurately can a video game’s genre be predicted based on its rank, global sales amount, platform, release date year, and publisher?"
   ]
  },
  {
   "cell_type": "code",
   "execution_count": 10,
   "id": "6683b90b",
   "metadata": {},
   "outputs": [
    {
     "name": "stdout",
     "output_type": "stream",
     "text": [
      "        Rank  Global_Sales  Platform_2600  Platform_3DO  Platform_3DS  \\\n",
      "0          1         82.74              0             0             0   \n",
      "1          2         40.24              0             0             0   \n",
      "2          3         35.82              0             0             0   \n",
      "3          4         33.00              0             0             0   \n",
      "4          5         31.37              0             0             0   \n",
      "...      ...           ...            ...           ...           ...   \n",
      "16593  16596          0.01              0             0             0   \n",
      "16594  16597          0.01              0             0             0   \n",
      "16595  16598          0.01              0             0             0   \n",
      "16596  16599          0.01              0             0             0   \n",
      "16597  16600          0.01              0             0             0   \n",
      "\n",
      "       Platform_DC  Platform_DS  Platform_GB  Platform_GBA  Platform_GC  ...  \\\n",
      "0                0            0            0             0            0  ...   \n",
      "1                0            0            0             0            0  ...   \n",
      "2                0            0            0             0            0  ...   \n",
      "3                0            0            0             0            0  ...   \n",
      "4                0            0            1             0            0  ...   \n",
      "...            ...          ...          ...           ...          ...  ...   \n",
      "16593            0            0            0             1            0  ...   \n",
      "16594            0            0            0             0            1  ...   \n",
      "16595            0            0            0             0            0  ...   \n",
      "16596            0            1            0             0            0  ...   \n",
      "16597            0            0            0             1            0  ...   \n",
      "\n",
      "       Publisher_Zushi Games  Publisher_bitComposer Games  \\\n",
      "0                          0                            0   \n",
      "1                          0                            0   \n",
      "2                          0                            0   \n",
      "3                          0                            0   \n",
      "4                          0                            0   \n",
      "...                      ...                          ...   \n",
      "16593                      0                            0   \n",
      "16594                      0                            0   \n",
      "16595                      0                            0   \n",
      "16596                      0                            0   \n",
      "16597                      0                            0   \n",
      "\n",
      "       Publisher_dramatic create  Publisher_fonfun  Publisher_iWin  \\\n",
      "0                              0                 0               0   \n",
      "1                              0                 0               0   \n",
      "2                              0                 0               0   \n",
      "3                              0                 0               0   \n",
      "4                              0                 0               0   \n",
      "...                          ...               ...             ...   \n",
      "16593                          0                 0               0   \n",
      "16594                          0                 0               0   \n",
      "16595                          0                 0               0   \n",
      "16596                          0                 0               0   \n",
      "16597                          0                 0               0   \n",
      "\n",
      "       Publisher_id Software  Publisher_imageepoch Inc.  \\\n",
      "0                          0                          0   \n",
      "1                          0                          0   \n",
      "2                          0                          0   \n",
      "3                          0                          0   \n",
      "4                          0                          0   \n",
      "...                      ...                        ...   \n",
      "16593                      0                          0   \n",
      "16594                      0                          0   \n",
      "16595                      0                          0   \n",
      "16596                      0                          0   \n",
      "16597                      0                          0   \n",
      "\n",
      "       Publisher_inXile Entertainment  Publisher_mixi, Inc  \\\n",
      "0                                   0                    0   \n",
      "1                                   0                    0   \n",
      "2                                   0                    0   \n",
      "3                                   0                    0   \n",
      "4                                   0                    0   \n",
      "...                               ...                  ...   \n",
      "16593                               0                    0   \n",
      "16594                               0                    0   \n",
      "16595                               0                    0   \n",
      "16596                               0                    0   \n",
      "16597                               0                    0   \n",
      "\n",
      "       Publisher_responDESIGN  \n",
      "0                           0  \n",
      "1                           0  \n",
      "2                           0  \n",
      "3                           0  \n",
      "4                           0  \n",
      "...                       ...  \n",
      "16593                       0  \n",
      "16594                       0  \n",
      "16595                       0  \n",
      "16596                       0  \n",
      "16597                       0  \n",
      "\n",
      "[16291 rows x 648 columns]\n"
     ]
    }
   ],
   "source": [
    "#X is the data while y is the target\n",
    "\n",
    "X = vgsales[['Rank', 'Platform', 'Year', 'Publisher', 'Global_Sales']]\n",
    "X_encoded = pd.get_dummies(X, columns=['Platform', 'Year', 'Publisher'])\n",
    "\n",
    "y = vgsales['Genre']\n",
    "\n",
    "print(X_encoded)"
   ]
  },
  {
   "cell_type": "code",
   "execution_count": 11,
   "id": "cde682e6",
   "metadata": {},
   "outputs": [],
   "source": [
    "import sklearn\n",
    "from sklearn.linear_model import LogisticRegression\n",
    "from sklearn.model_selection import train_test_split\n",
    "from sklearn.metrics import classification_report, confusion_matrix\n",
    "from sklearn.metrics import roc_auc_score, roc_curve, accuracy_score\n",
    "from sklearn.metrics import precision_score, recall_score\n",
    "from sklearn import preprocessing"
   ]
  },
  {
   "cell_type": "code",
   "execution_count": 12,
   "id": "cd022c27",
   "metadata": {},
   "outputs": [],
   "source": [
    "X_train, X_test, y_train, y_test = train_test_split(X_encoded, y, test_size = 0.30, random_state = 0)"
   ]
  },
  {
   "cell_type": "code",
   "execution_count": 13,
   "id": "bc607ec1",
   "metadata": {},
   "outputs": [
    {
     "name": "stderr",
     "output_type": "stream",
     "text": [
      "C:\\Users\\Cyber\\anaconda3\\lib\\site-packages\\sklearn\\linear_model\\_logistic.py:763: ConvergenceWarning: lbfgs failed to converge (status=1):\n",
      "STOP: TOTAL NO. of ITERATIONS REACHED LIMIT.\n",
      "\n",
      "Increase the number of iterations (max_iter) or scale the data as shown in:\n",
      "    https://scikit-learn.org/stable/modules/preprocessing.html\n",
      "Please also refer to the documentation for alternative solver options:\n",
      "    https://scikit-learn.org/stable/modules/linear_model.html#logistic-regression\n",
      "  n_iter_i = _check_optimize_result(\n"
     ]
    }
   ],
   "source": [
    "LogReg = LogisticRegression()\n",
    "\n",
    "scaler = preprocessing.StandardScaler()\n",
    "X_train = scaler.fit_transform(X_train)\n",
    "X_test = scaler.transform(X_test)\n",
    "\n",
    "LogReg.fit(X_train, y_train)\n",
    "\n",
    "y_pred = LogReg.predict(X_test)"
   ]
  },
  {
   "cell_type": "code",
   "execution_count": 14,
   "id": "5133f217",
   "metadata": {},
   "outputs": [
    {
     "name": "stdout",
     "output_type": "stream",
     "text": [
      "Classes ['Action' 'Adventure' 'Fighting' 'Misc' 'Platform' 'Puzzle' 'Racing'\n",
      " 'Role-Playing' 'Shooter' 'Simulation' 'Sports' 'Strategy']\n",
      "Intercept [ 1.70085468  0.15924446 -0.62189485  0.70567391 -0.3321898  -1.6578516\n",
      " -0.0115315   0.25766427  0.28258477 -0.54162859  0.79829293 -0.73921866]\n",
      "Coefficients [[-0.04763581  0.06081919  0.31755877 ... -0.02104385  0.\n",
      "  -0.02346151]\n",
      " [ 0.40561294 -0.18887183 -0.17177477 ... -0.00722758  0.\n",
      "  -0.01441699]\n",
      " [-0.28915186  0.07547211 -0.12400585 ... -0.00093783  0.\n",
      "  -0.0048448 ]\n",
      " ...\n",
      " [-0.12881433 -0.00096142 -0.32610248 ... -0.00687174  0.\n",
      "  -0.00394984]\n",
      " [ 0.05659854  0.04317268  0.24293187 ... -0.00814357  0.\n",
      "   0.10815525]\n",
      " [ 0.0637179  -0.48536767 -0.07710143 ... -0.01039718  0.\n",
      "  -0.00430212]]\n"
     ]
    }
   ],
   "source": [
    "print('Classes', LogReg.classes_)\n",
    "print('Intercept', LogReg.intercept_)\n",
    "print(\"Coefficients\", LogReg.coef_ )"
   ]
  },
  {
   "cell_type": "code",
   "execution_count": 15,
   "id": "53474c6c",
   "metadata": {},
   "outputs": [
    {
     "name": "stdout",
     "output_type": "stream",
     "text": [
      "Accuracy 0.354746317512275\n",
      "              precision    recall  f1-score   support\n",
      "\n",
      "      Action       0.37      0.56      0.44       976\n",
      "   Adventure       0.51      0.33      0.40       380\n",
      "    Fighting       0.40      0.22      0.28       266\n",
      "        Misc       0.30      0.27      0.29       518\n",
      "    Platform       0.30      0.14      0.19       240\n",
      "      Puzzle       0.26      0.20      0.23       192\n",
      "      Racing       0.35      0.21      0.26       383\n",
      "Role-Playing       0.40      0.39      0.39       423\n",
      "     Shooter       0.25      0.13      0.17       376\n",
      "  Simulation       0.30      0.24      0.27       251\n",
      "      Sports       0.36      0.59      0.45       683\n",
      "    Strategy       0.28      0.17      0.22       200\n",
      "\n",
      "    accuracy                           0.35      4888\n",
      "   macro avg       0.34      0.29      0.30      4888\n",
      "weighted avg       0.35      0.35      0.34      4888\n",
      "\n"
     ]
    }
   ],
   "source": [
    "print(\"Accuracy\", LogReg.score(X_test, y_test))\n",
    "print(classification_report(y_test, LogReg.predict(X_test)))"
   ]
  },
  {
   "cell_type": "markdown",
   "id": "b228fd3f",
   "metadata": {},
   "source": [
    "### Findings from Logistic Regression"
   ]
  },
  {
   "cell_type": "markdown",
   "id": "a41b7d82",
   "metadata": {},
   "source": [
    "Genre cannot be accurately predicted with just a video game's rank, global sales amount, platform, release date year, and publisher; our logistic regression was overall 35% accurate. \n",
    "\n",
    "One thing to note though is that our logistic regression was able to best predict the Adventure genre; it predicted this genre correctly 51% of the time.  The relatively high accuracy in this genre means this genre does somewhat have a correlation with a video game's rank, global sales amount, platform, release date year, and publisher."
   ]
  },
  {
   "cell_type": "markdown",
   "id": "51bb7b44",
   "metadata": {},
   "source": [
    "## Decision Trees"
   ]
  },
  {
   "cell_type": "markdown",
   "id": "2cd3e5da",
   "metadata": {},
   "source": [
    "Question to be answered with Decision Tree: How accurately can a video game's genre be predicted if the game's rank, name, release date year, publisher, and global sales amount are known?"
   ]
  },
  {
   "cell_type": "code",
   "execution_count": 16,
   "id": "16671fdf",
   "metadata": {},
   "outputs": [],
   "source": [
    "from sklearn.model_selection import train_test_split \n",
    "from sklearn.tree import DecisionTreeClassifier\n",
    "from sklearn import tree\n",
    "from sklearn import metrics,preprocessing\n",
    "from IPython.display import Image,display\n",
    "import matplotlib.pyplot as plt,pydotplus\n",
    "%matplotlib inline"
   ]
  },
  {
   "cell_type": "code",
   "execution_count": 17,
   "id": "3f1f5b98",
   "metadata": {},
   "outputs": [],
   "source": [
    "def characters_to_numb(*args):\n",
    "    for arg in args:\n",
    "        vgsales[arg] = pd.Categorical(vgsales[arg])\n",
    "        vgsales[arg] = vgsales[arg].cat.codes\n",
    "    return vgsales"
   ]
  },
  {
   "cell_type": "code",
   "execution_count": 18,
   "id": "14988830",
   "metadata": {},
   "outputs": [
    {
     "data": {
      "text/html": [
       "<div>\n",
       "<style scoped>\n",
       "    .dataframe tbody tr th:only-of-type {\n",
       "        vertical-align: middle;\n",
       "    }\n",
       "\n",
       "    .dataframe tbody tr th {\n",
       "        vertical-align: top;\n",
       "    }\n",
       "\n",
       "    .dataframe thead th {\n",
       "        text-align: right;\n",
       "    }\n",
       "</style>\n",
       "<table border=\"1\" class=\"dataframe\">\n",
       "  <thead>\n",
       "    <tr style=\"text-align: right;\">\n",
       "      <th></th>\n",
       "      <th>Rank</th>\n",
       "      <th>Name</th>\n",
       "      <th>Platform</th>\n",
       "      <th>Year</th>\n",
       "      <th>Genre</th>\n",
       "      <th>Publisher</th>\n",
       "      <th>Global_Sales</th>\n",
       "    </tr>\n",
       "  </thead>\n",
       "  <tbody>\n",
       "    <tr>\n",
       "      <th>0</th>\n",
       "      <td>1</td>\n",
       "      <td>10849</td>\n",
       "      <td>26</td>\n",
       "      <td>2006.0</td>\n",
       "      <td>10</td>\n",
       "      <td>359</td>\n",
       "      <td>82.74</td>\n",
       "    </tr>\n",
       "    <tr>\n",
       "      <th>1</th>\n",
       "      <td>2</td>\n",
       "      <td>9201</td>\n",
       "      <td>11</td>\n",
       "      <td>1985.0</td>\n",
       "      <td>4</td>\n",
       "      <td>359</td>\n",
       "      <td>40.24</td>\n",
       "    </tr>\n",
       "    <tr>\n",
       "      <th>2</th>\n",
       "      <td>3</td>\n",
       "      <td>5493</td>\n",
       "      <td>26</td>\n",
       "      <td>2008.0</td>\n",
       "      <td>6</td>\n",
       "      <td>359</td>\n",
       "      <td>35.82</td>\n",
       "    </tr>\n",
       "    <tr>\n",
       "      <th>3</th>\n",
       "      <td>4</td>\n",
       "      <td>10851</td>\n",
       "      <td>26</td>\n",
       "      <td>2009.0</td>\n",
       "      <td>10</td>\n",
       "      <td>359</td>\n",
       "      <td>33.00</td>\n",
       "    </tr>\n",
       "    <tr>\n",
       "      <th>4</th>\n",
       "      <td>5</td>\n",
       "      <td>7247</td>\n",
       "      <td>5</td>\n",
       "      <td>1996.0</td>\n",
       "      <td>7</td>\n",
       "      <td>359</td>\n",
       "      <td>31.37</td>\n",
       "    </tr>\n",
       "    <tr>\n",
       "      <th>...</th>\n",
       "      <td>...</td>\n",
       "      <td>...</td>\n",
       "      <td>...</td>\n",
       "      <td>...</td>\n",
       "      <td>...</td>\n",
       "      <td>...</td>\n",
       "      <td>...</td>\n",
       "    </tr>\n",
       "    <tr>\n",
       "      <th>16593</th>\n",
       "      <td>16596</td>\n",
       "      <td>10942</td>\n",
       "      <td>6</td>\n",
       "      <td>2002.0</td>\n",
       "      <td>4</td>\n",
       "      <td>269</td>\n",
       "      <td>0.01</td>\n",
       "    </tr>\n",
       "    <tr>\n",
       "      <th>16594</th>\n",
       "      <td>16597</td>\n",
       "      <td>5713</td>\n",
       "      <td>7</td>\n",
       "      <td>2003.0</td>\n",
       "      <td>8</td>\n",
       "      <td>241</td>\n",
       "      <td>0.01</td>\n",
       "    </tr>\n",
       "    <tr>\n",
       "      <th>16595</th>\n",
       "      <td>16598</td>\n",
       "      <td>8039</td>\n",
       "      <td>16</td>\n",
       "      <td>2008.0</td>\n",
       "      <td>6</td>\n",
       "      <td>21</td>\n",
       "      <td>0.01</td>\n",
       "    </tr>\n",
       "    <tr>\n",
       "      <th>16596</th>\n",
       "      <td>16599</td>\n",
       "      <td>4938</td>\n",
       "      <td>4</td>\n",
       "      <td>2010.0</td>\n",
       "      <td>5</td>\n",
       "      <td>8</td>\n",
       "      <td>0.01</td>\n",
       "    </tr>\n",
       "    <tr>\n",
       "      <th>16597</th>\n",
       "      <td>16600</td>\n",
       "      <td>8850</td>\n",
       "      <td>6</td>\n",
       "      <td>2003.0</td>\n",
       "      <td>4</td>\n",
       "      <td>544</td>\n",
       "      <td>0.01</td>\n",
       "    </tr>\n",
       "  </tbody>\n",
       "</table>\n",
       "<p>16291 rows × 7 columns</p>\n",
       "</div>"
      ],
      "text/plain": [
       "        Rank   Name  Platform    Year  Genre  Publisher  Global_Sales\n",
       "0          1  10849        26  2006.0     10        359         82.74\n",
       "1          2   9201        11  1985.0      4        359         40.24\n",
       "2          3   5493        26  2008.0      6        359         35.82\n",
       "3          4  10851        26  2009.0     10        359         33.00\n",
       "4          5   7247         5  1996.0      7        359         31.37\n",
       "...      ...    ...       ...     ...    ...        ...           ...\n",
       "16593  16596  10942         6  2002.0      4        269          0.01\n",
       "16594  16597   5713         7  2003.0      8        241          0.01\n",
       "16595  16598   8039        16  2008.0      6         21          0.01\n",
       "16596  16599   4938         4  2010.0      5          8          0.01\n",
       "16597  16600   8850         6  2003.0      4        544          0.01\n",
       "\n",
       "[16291 rows x 7 columns]"
      ]
     },
     "execution_count": 18,
     "metadata": {},
     "output_type": "execute_result"
    }
   ],
   "source": [
    "characters_to_numb(\"Name\",\"Publisher\",\"Platform\", \"Genre\")"
   ]
  },
  {
   "cell_type": "code",
   "execution_count": 19,
   "id": "045444ee",
   "metadata": {},
   "outputs": [],
   "source": [
    "X = vgsales.drop(['Genre'],axis=1)\n",
    "y=vgsales['Genre']"
   ]
  },
  {
   "cell_type": "code",
   "execution_count": 20,
   "id": "cd1b3cdb",
   "metadata": {},
   "outputs": [],
   "source": [
    "vgsales_test=vgsales.sample(n=20)\n",
    "x_test=vgsales_test.drop(['Genre'],axis=1)\n",
    "y_test=vgsales_test['Genre']\n",
    "X_train, X_test, y_train, y_test= train_test_split(X, y,test_size=0.2,random_state=99)"
   ]
  },
  {
   "cell_type": "code",
   "execution_count": 21,
   "id": "c4904487",
   "metadata": {},
   "outputs": [
    {
     "data": {
      "text/plain": [
       "RandomForestClassifier(max_depth=2, random_state=0)"
      ]
     },
     "execution_count": 21,
     "metadata": {},
     "output_type": "execute_result"
    }
   ],
   "source": [
    "from sklearn.ensemble import RandomForestClassifier\n",
    "%matplotlib inline\n",
    "\n",
    "RF = RandomForestClassifier(n_estimators=100, max_depth=2, random_state=0)\n",
    "RF.fit(X_train, y_train)"
   ]
  },
  {
   "cell_type": "code",
   "execution_count": 22,
   "id": "7a4d3d66",
   "metadata": {},
   "outputs": [
    {
     "data": {
      "text/plain": [
       "0.2145"
      ]
     },
     "execution_count": 22,
     "metadata": {},
     "output_type": "execute_result"
    }
   ],
   "source": [
    "round(RF.score(X_test, y_test), 4)"
   ]
  },
  {
   "cell_type": "code",
   "execution_count": 23,
   "id": "268cfd55",
   "metadata": {},
   "outputs": [],
   "source": [
    "import matplotlib.pyplot as plt\n",
    "from sklearn.tree import plot_tree,export_text"
   ]
  },
  {
   "cell_type": "code",
   "execution_count": 30,
   "id": "3c9eb277",
   "metadata": {},
   "outputs": [],
   "source": [
    "vgsales = DecisionTreeClassifier(max_depth = 2, \n",
    "                             random_state = 0)"
   ]
  },
  {
   "cell_type": "code",
   "execution_count": 31,
   "id": "0859a2ff",
   "metadata": {},
   "outputs": [
    {
     "data": {
      "image/png": "[encoded data removed]",
      "text/plain": [
       "<Figure size 1080x1080 with 1 Axes>"
      ]
     },
     "metadata": {
      "needs_background": "light"
     },
     "output_type": "display_data"
    }
   ],
   "source": [
    "vgsales.fit(X_train, y_train)\n",
    "plt.figure(figsize=(15,15))\n",
    "tree.plot_tree(vgsales, fontsize = 10);\n",
    "plt.show()"
   ]
  },
  {
   "cell_type": "markdown",
   "id": "86c727c2",
   "metadata": {},
   "source": [
    "### Findings from Decision Tree"
   ]
  },
  {
   "cell_type": "markdown",
   "id": "6ed7e575",
   "metadata": {},
   "source": [
    "The results showed that there is a 21% accuracy in the model created. The tree holds 7 leaves with 6 branches. The process of was difficult in actaully plotting the tree itself given we had trouble fitting from the Random Forest Classifier.\n",
    "\n",
    "The columns our decision tree model used to create branches are “Year”, “Platform”, and “Publisher”"
   ]
  },
  {
   "cell_type": "markdown",
   "id": "626d3e9e",
   "metadata": {},
   "source": [
    "## XGBoost"
   ]
  },
  {
   "cell_type": "markdown",
   "id": "fbb1fbb2",
   "metadata": {},
   "source": [
    "Question to answer with XGBoost: How accurately can a XGBoost model predict a video game's genre when the video game's rank, global sales amount, platform, release date year, and publisher are known?\n",
    "\n",
    "Which feature is most important in predicting a video game’s genre?\n",
    "\n",
    "Which feature is least important in predicting a video game’s genre?"
   ]
  },
  {
   "cell_type": "code",
   "execution_count": 32,
   "id": "54b133d1",
   "metadata": {},
   "outputs": [],
   "source": [
    "#Making a copy of our data since we need to transform it\n",
    "\n",
    "vgsalesBoost = pd.read_csv('vgsales.csv')\n",
    "vgsalesBoost = vgsalesBoost.dropna()\n",
    "vgsalesBoost = vgsalesBoost.drop(['NA_Sales', 'EU_Sales', 'JP_Sales', 'Other_Sales'], axis = 1)"
   ]
  },
  {
   "cell_type": "code",
   "execution_count": 33,
   "id": "b3df1142",
   "metadata": {},
   "outputs": [],
   "source": [
    "# One-Hot Encoding to transform categorical variables\n",
    "vgsalesBoost = vgsalesBoost.drop(\"Name\", axis = 1).copy() # not in-place\n",
    "# splitting our features and our target\n",
    "X = vgsalesBoost.drop(\"Genre\", axis = 1).copy()\n",
    "y = vgsalesBoost[\"Genre\"].copy()"
   ]
  },
  {
   "cell_type": "code",
   "execution_count": 34,
   "id": "cb847b21",
   "metadata": {},
   "outputs": [
    {
     "data": {
      "text/html": [
       "<div>\n",
       "<style scoped>\n",
       "    .dataframe tbody tr th:only-of-type {\n",
       "        vertical-align: middle;\n",
       "    }\n",
       "\n",
       "    .dataframe tbody tr th {\n",
       "        vertical-align: top;\n",
       "    }\n",
       "\n",
       "    .dataframe thead th {\n",
       "        text-align: right;\n",
       "    }\n",
       "</style>\n",
       "<table border=\"1\" class=\"dataframe\">\n",
       "  <thead>\n",
       "    <tr style=\"text-align: right;\">\n",
       "      <th></th>\n",
       "      <th>Rank</th>\n",
       "      <th>Global_Sales</th>\n",
       "      <th>Platform_2600</th>\n",
       "      <th>Platform_3DO</th>\n",
       "      <th>Platform_3DS</th>\n",
       "      <th>Platform_DC</th>\n",
       "      <th>Platform_DS</th>\n",
       "      <th>Platform_GB</th>\n",
       "      <th>Platform_GBA</th>\n",
       "      <th>Platform_GC</th>\n",
       "      <th>...</th>\n",
       "      <th>Publisher_Zushi Games</th>\n",
       "      <th>Publisher_bitComposer Games</th>\n",
       "      <th>Publisher_dramatic create</th>\n",
       "      <th>Publisher_fonfun</th>\n",
       "      <th>Publisher_iWin</th>\n",
       "      <th>Publisher_id Software</th>\n",
       "      <th>Publisher_imageepoch Inc.</th>\n",
       "      <th>Publisher_inXile Entertainment</th>\n",
       "      <th>Publisher_mixi, Inc</th>\n",
       "      <th>Publisher_responDESIGN</th>\n",
       "    </tr>\n",
       "  </thead>\n",
       "  <tbody>\n",
       "    <tr>\n",
       "      <th>0</th>\n",
       "      <td>1</td>\n",
       "      <td>82.74</td>\n",
       "      <td>0</td>\n",
       "      <td>0</td>\n",
       "      <td>0</td>\n",
       "      <td>0</td>\n",
       "      <td>0</td>\n",
       "      <td>0</td>\n",
       "      <td>0</td>\n",
       "      <td>0</td>\n",
       "      <td>...</td>\n",
       "      <td>0</td>\n",
       "      <td>0</td>\n",
       "      <td>0</td>\n",
       "      <td>0</td>\n",
       "      <td>0</td>\n",
       "      <td>0</td>\n",
       "      <td>0</td>\n",
       "      <td>0</td>\n",
       "      <td>0</td>\n",
       "      <td>0</td>\n",
       "    </tr>\n",
       "    <tr>\n",
       "      <th>1</th>\n",
       "      <td>2</td>\n",
       "      <td>40.24</td>\n",
       "      <td>0</td>\n",
       "      <td>0</td>\n",
       "      <td>0</td>\n",
       "      <td>0</td>\n",
       "      <td>0</td>\n",
       "      <td>0</td>\n",
       "      <td>0</td>\n",
       "      <td>0</td>\n",
       "      <td>...</td>\n",
       "      <td>0</td>\n",
       "      <td>0</td>\n",
       "      <td>0</td>\n",
       "      <td>0</td>\n",
       "      <td>0</td>\n",
       "      <td>0</td>\n",
       "      <td>0</td>\n",
       "      <td>0</td>\n",
       "      <td>0</td>\n",
       "      <td>0</td>\n",
       "    </tr>\n",
       "    <tr>\n",
       "      <th>2</th>\n",
       "      <td>3</td>\n",
       "      <td>35.82</td>\n",
       "      <td>0</td>\n",
       "      <td>0</td>\n",
       "      <td>0</td>\n",
       "      <td>0</td>\n",
       "      <td>0</td>\n",
       "      <td>0</td>\n",
       "      <td>0</td>\n",
       "      <td>0</td>\n",
       "      <td>...</td>\n",
       "      <td>0</td>\n",
       "      <td>0</td>\n",
       "      <td>0</td>\n",
       "      <td>0</td>\n",
       "      <td>0</td>\n",
       "      <td>0</td>\n",
       "      <td>0</td>\n",
       "      <td>0</td>\n",
       "      <td>0</td>\n",
       "      <td>0</td>\n",
       "    </tr>\n",
       "    <tr>\n",
       "      <th>3</th>\n",
       "      <td>4</td>\n",
       "      <td>33.00</td>\n",
       "      <td>0</td>\n",
       "      <td>0</td>\n",
       "      <td>0</td>\n",
       "      <td>0</td>\n",
       "      <td>0</td>\n",
       "      <td>0</td>\n",
       "      <td>0</td>\n",
       "      <td>0</td>\n",
       "      <td>...</td>\n",
       "      <td>0</td>\n",
       "      <td>0</td>\n",
       "      <td>0</td>\n",
       "      <td>0</td>\n",
       "      <td>0</td>\n",
       "      <td>0</td>\n",
       "      <td>0</td>\n",
       "      <td>0</td>\n",
       "      <td>0</td>\n",
       "      <td>0</td>\n",
       "    </tr>\n",
       "    <tr>\n",
       "      <th>4</th>\n",
       "      <td>5</td>\n",
       "      <td>31.37</td>\n",
       "      <td>0</td>\n",
       "      <td>0</td>\n",
       "      <td>0</td>\n",
       "      <td>0</td>\n",
       "      <td>0</td>\n",
       "      <td>1</td>\n",
       "      <td>0</td>\n",
       "      <td>0</td>\n",
       "      <td>...</td>\n",
       "      <td>0</td>\n",
       "      <td>0</td>\n",
       "      <td>0</td>\n",
       "      <td>0</td>\n",
       "      <td>0</td>\n",
       "      <td>0</td>\n",
       "      <td>0</td>\n",
       "      <td>0</td>\n",
       "      <td>0</td>\n",
       "      <td>0</td>\n",
       "    </tr>\n",
       "  </tbody>\n",
       "</table>\n",
       "<p>5 rows × 648 columns</p>\n",
       "</div>"
      ],
      "text/plain": [
       "   Rank  Global_Sales  Platform_2600  Platform_3DO  Platform_3DS  Platform_DC  \\\n",
       "0     1         82.74              0             0             0            0   \n",
       "1     2         40.24              0             0             0            0   \n",
       "2     3         35.82              0             0             0            0   \n",
       "3     4         33.00              0             0             0            0   \n",
       "4     5         31.37              0             0             0            0   \n",
       "\n",
       "   Platform_DS  Platform_GB  Platform_GBA  Platform_GC  ...  \\\n",
       "0            0            0             0            0  ...   \n",
       "1            0            0             0            0  ...   \n",
       "2            0            0             0            0  ...   \n",
       "3            0            0             0            0  ...   \n",
       "4            0            1             0            0  ...   \n",
       "\n",
       "   Publisher_Zushi Games  Publisher_bitComposer Games  \\\n",
       "0                      0                            0   \n",
       "1                      0                            0   \n",
       "2                      0                            0   \n",
       "3                      0                            0   \n",
       "4                      0                            0   \n",
       "\n",
       "   Publisher_dramatic create  Publisher_fonfun  Publisher_iWin  \\\n",
       "0                          0                 0               0   \n",
       "1                          0                 0               0   \n",
       "2                          0                 0               0   \n",
       "3                          0                 0               0   \n",
       "4                          0                 0               0   \n",
       "\n",
       "   Publisher_id Software  Publisher_imageepoch Inc.  \\\n",
       "0                      0                          0   \n",
       "1                      0                          0   \n",
       "2                      0                          0   \n",
       "3                      0                          0   \n",
       "4                      0                          0   \n",
       "\n",
       "   Publisher_inXile Entertainment  Publisher_mixi, Inc  Publisher_responDESIGN  \n",
       "0                               0                    0                       0  \n",
       "1                               0                    0                       0  \n",
       "2                               0                    0                       0  \n",
       "3                               0                    0                       0  \n",
       "4                               0                    0                       0  \n",
       "\n",
       "[5 rows x 648 columns]"
      ]
     },
     "execution_count": 34,
     "metadata": {},
     "output_type": "execute_result"
    }
   ],
   "source": [
    "X_encoded = pd.get_dummies(X, columns=['Platform', 'Year', 'Publisher'])\n",
    "X_encoded.head()"
   ]
  },
  {
   "cell_type": "code",
   "execution_count": 35,
   "id": "5e83003f",
   "metadata": {},
   "outputs": [
    {
     "data": {
      "text/plain": [
       "array(['Sports', 'Platform', 'Racing', 'Role-Playing', 'Puzzle', 'Misc',\n",
       "       'Shooter', 'Simulation', 'Action', 'Fighting', 'Adventure',\n",
       "       'Strategy'], dtype=object)"
      ]
     },
     "execution_count": 35,
     "metadata": {},
     "output_type": "execute_result"
    }
   ],
   "source": [
    "y.unique()"
   ]
  },
  {
   "cell_type": "code",
   "execution_count": 36,
   "id": "58ddf8c3",
   "metadata": {},
   "outputs": [],
   "source": [
    "from sklearn.preprocessing import LabelEncoder\n",
    "Ly = LabelEncoder()\n",
    "y = Ly.fit_transform(y)"
   ]
  },
  {
   "cell_type": "code",
   "execution_count": 37,
   "id": "9b2cee0f",
   "metadata": {},
   "outputs": [
    {
     "data": {
      "text/plain": [
       "array(['Action', 'Adventure', 'Fighting', 'Misc', 'Platform', 'Puzzle',\n",
       "       'Racing', 'Role-Playing', 'Shooter', 'Simulation', 'Sports',\n",
       "       'Strategy'], dtype=object)"
      ]
     },
     "execution_count": 37,
     "metadata": {},
     "output_type": "execute_result"
    }
   ],
   "source": [
    "Ly.classes_"
   ]
  },
  {
   "cell_type": "code",
   "execution_count": 38,
   "id": "6a5b4221",
   "metadata": {},
   "outputs": [
    {
     "data": {
      "text/plain": [
       "array(['Fighting'], dtype=object)"
      ]
     },
     "execution_count": 38,
     "metadata": {},
     "output_type": "execute_result"
    }
   ],
   "source": [
    "Ly.inverse_transform([2])"
   ]
  },
  {
   "cell_type": "code",
   "execution_count": 39,
   "id": "9630501c",
   "metadata": {},
   "outputs": [],
   "source": [
    "from sklearn.model_selection import train_test_split\n",
    "X_train, X_test, y_train, y_test = train_test_split(X_encoded, y, test_size=0.25, random_state=0)"
   ]
  },
  {
   "cell_type": "code",
   "execution_count": 40,
   "id": "76b7633b",
   "metadata": {},
   "outputs": [
    {
     "data": {
      "text/plain": [
       "(4073, 648)"
      ]
     },
     "execution_count": 40,
     "metadata": {},
     "output_type": "execute_result"
    }
   ],
   "source": [
    "X_train.shape\n",
    "X_test.shape"
   ]
  },
  {
   "cell_type": "code",
   "execution_count": 41,
   "id": "d4ce2b8e",
   "metadata": {},
   "outputs": [
    {
     "name": "stderr",
     "output_type": "stream",
     "text": [
      "C:\\Users\\Cyber\\anaconda3\\lib\\site-packages\\xgboost\\sklearn.py:1224: UserWarning: The use of label encoder in XGBClassifier is deprecated and will be removed in a future release. To remove this warning, do the following: 1) Pass option use_label_encoder=False when constructing XGBClassifier object; and 2) Encode your labels (y) as integers starting with 0, i.e. 0, 1, 2, ..., [num_class - 1].\n",
      "  warnings.warn(label_encoder_deprecation_msg, UserWarning)\n"
     ]
    },
    {
     "name": "stdout",
     "output_type": "stream",
     "text": [
      "[19:11:37] WARNING: D:\\bld\\xgboost-split_1645118015404\\work\\src\\learner.cc:1115: Starting in XGBoost 1.3.0, the default evaluation metric used with the objective 'multi:softprob' was changed from 'merror' to 'mlogloss'. Explicitly set eval_metric if you'd like to restore the old behavior.\n"
     ]
    },
    {
     "data": {
      "text/plain": [
       "XGBClassifier(base_score=0.5, booster='gbtree', colsample_bylevel=1,\n",
       "              colsample_bynode=1, colsample_bytree=1, enable_categorical=False,\n",
       "              gamma=0, gpu_id=-1, importance_type=None,\n",
       "              interaction_constraints='', learning_rate=0.300000012,\n",
       "              max_delta_step=0, max_depth=6, min_child_weight=1, missing=nan,\n",
       "              monotone_constraints='()', n_estimators=100, n_jobs=16,\n",
       "              num_parallel_tree=1, objective='multi:softprob', predictor='auto',\n",
       "              random_state=0, reg_alpha=0, reg_lambda=1, scale_pos_weight=None,\n",
       "              subsample=1, tree_method='exact', validate_parameters=1,\n",
       "              verbosity=None)"
      ]
     },
     "execution_count": 41,
     "metadata": {},
     "output_type": "execute_result"
    }
   ],
   "source": [
    "import xgboost as xgb\n",
    "xgb_model = xgb.XGBClassifier(random_state=0)\n",
    "xgb_model.fit(X_train, y_train)"
   ]
  },
  {
   "cell_type": "code",
   "execution_count": 42,
   "id": "1c682e32",
   "metadata": {},
   "outputs": [],
   "source": [
    "Yp = xgb_model.predict(X_test)"
   ]
  },
  {
   "cell_type": "code",
   "execution_count": 43,
   "id": "c432d2e3",
   "metadata": {},
   "outputs": [
    {
     "data": {
      "text/plain": [
       "35.452983059170144"
      ]
     },
     "execution_count": 43,
     "metadata": {},
     "output_type": "execute_result"
    }
   ],
   "source": [
    "# % percentage correct\n",
    "from sklearn.metrics import accuracy_score\n",
    "accuracy_score(y_test, Yp) * 100"
   ]
  },
  {
   "cell_type": "code",
   "execution_count": 44,
   "id": "e60b2a2a",
   "metadata": {},
   "outputs": [
    {
     "data": {
      "text/plain": [
       "<AxesSubplot:title={'center':'Feature importance'}, xlabel='F score', ylabel='Features'>"
      ]
     },
     "execution_count": 44,
     "metadata": {},
     "output_type": "execute_result"
    },
    {
     "data": {
      "image/png": "[encoded data removed]",
      "text/plain": [
       "<Figure size 432x288 with 1 Axes>"
      ]
     },
     "metadata": {
      "needs_background": "light"
     },
     "output_type": "display_data"
    }
   ],
   "source": [
    "from xgboost import plot_importance\n",
    "plot_importance(xgb_model, max_num_features = 10)"
   ]
  },
  {
   "cell_type": "markdown",
   "id": "91def9b2",
   "metadata": {},
   "source": [
    "### Findings from XGBoost\n",
    "\n",
    "Genre cannot be accurately predicted with just a video game's rank, global sales amount, platform, release date year, and publisher; our XGBoost model was overall 35% accurate.\n",
    "\n",
    "The most important feature in predicting a video game's genre in our XGBoost model is Rank; all other features appear to have relatively low importance."
   ]
  },
  {
   "cell_type": "markdown",
   "id": "defb980a",
   "metadata": {},
   "source": [
    "## Neural Network (Keras)"
   ]
  },
  {
   "cell_type": "markdown",
   "id": "4e1eb5d0",
   "metadata": {},
   "source": [
    "Question to be answered with a keras neural network:  What is the highest accuracy that a video game's genre can be predicted when the game's rank, name, platform, release year, publisher, and global sales amount are known?\n",
    "\n",
    "What is the highest accuracy a keras neural network can reach when predicting a video game's genre based on the game's rank, name, platform, release year, publisher, and global sales amount?\n",
    "\n",
    "What is the lowest accuracy a keras neural network can reach when predicting a video game's genre based on the game's rank, name, platform, release year, publisher, and global sales amount?\n",
    "\n",
    "Is there a major change in accuracy between epochs?"
   ]
  },
  {
   "cell_type": "code",
   "execution_count": 45,
   "id": "e0eddb7f",
   "metadata": {},
   "outputs": [],
   "source": [
    "#Making a copy of our data since we need to transform it\n",
    "\n",
    "vgsalesNN = pd.read_csv('vgsales.csv')\n",
    "vgsalesNN = vgsalesNN.dropna()\n",
    "vgsalesNN = vgsalesNN.drop(['NA_Sales', 'EU_Sales', 'JP_Sales', 'Other_Sales'], axis = 1)"
   ]
  },
  {
   "cell_type": "code",
   "execution_count": 46,
   "id": "f4175a2a",
   "metadata": {},
   "outputs": [],
   "source": [
    "import keras\n",
    "from keras.models import Sequential\n",
    "from keras.layers import Dense\n",
    "from tensorflow.keras.utils import to_categorical\n",
    "model = Sequential()\n",
    "model.add(Dense(units =5, activation = 'relu')) # 5 inputs\n",
    "model.add(Dense(units = 12, activation = 'sigmoid')) #12 different genres"
   ]
  },
  {
   "cell_type": "code",
   "execution_count": 47,
   "id": "fb3874a9",
   "metadata": {},
   "outputs": [],
   "source": [
    "def characters_to_numb(*args):\n",
    "    for arg in args:\n",
    "        vgsalesNN[arg] = pd.Categorical(vgsalesNN[arg])\n",
    "        vgsalesNN[arg] = vgsalesNN[arg].cat.codes\n",
    "    return vgsalesNN\n",
    "\n",
    "# transform specific column data to integers \n",
    "characters_to_numb(\"Name\",\"Publisher\",\"Platform\",\"Genre\")\n",
    "target_column = [\"Genre\"]"
   ]
  },
  {
   "cell_type": "code",
   "execution_count": 48,
   "id": "edd84bec",
   "metadata": {},
   "outputs": [],
   "source": [
    "predictors = list(set(list(vgsalesNN.columns))-set(target_column))\n",
    "\n",
    "#normalize predictors via scaling\n",
    "vgsalesNN[predictors].describe()\n",
    "vgsalesNN[predictors] = vgsalesNN[predictors]/vgsalesNN[predictors].max()"
   ]
  },
  {
   "cell_type": "code",
   "execution_count": 49,
   "id": "f28472cf",
   "metadata": {},
   "outputs": [
    {
     "name": "stdout",
     "output_type": "stream",
     "text": [
      "(11403, 6)\n",
      "(4888, 6)\n"
     ]
    }
   ],
   "source": [
    "X = vgsalesNN[predictors].values\n",
    "y = vgsalesNN[target_column].values\n",
    "\n",
    "from sklearn.model_selection import train_test_split\n",
    "from sklearn.metrics import mean_squared_error\n",
    "from math import sqrt\n",
    "\n",
    "X_train, X_test, y_train, y_test = train_test_split(X, y, test_size=0.30, random_state=40)\n",
    "print(X_train.shape); print(X_test.shape)\n",
    "\n",
    "y_train = to_categorical(y_train)\n",
    "y_test = to_categorical(y_test)"
   ]
  },
  {
   "cell_type": "code",
   "execution_count": 50,
   "id": "3c7ea899",
   "metadata": {},
   "outputs": [
    {
     "name": "stdout",
     "output_type": "stream",
     "text": [
      "12\n"
     ]
    }
   ],
   "source": [
    "count_classes = y_test.shape[1]\n",
    "print(count_classes)"
   ]
  },
  {
   "cell_type": "code",
   "execution_count": 51,
   "id": "97a09e03",
   "metadata": {},
   "outputs": [],
   "source": [
    "# Compile the model\n",
    "model.compile(optimizer='adam', \n",
    "              loss='categorical_crossentropy', \n",
    "              metrics=['accuracy'])"
   ]
  },
  {
   "cell_type": "code",
   "execution_count": 52,
   "id": "b885dfa1",
   "metadata": {},
   "outputs": [
    {
     "name": "stdout",
     "output_type": "stream",
     "text": [
      "Epoch 1/20\n",
      "357/357 [==============================] - 0s 377us/step - loss: 2.4485 - accuracy: 0.1434\n",
      "Epoch 2/20\n",
      "357/357 [==============================] - 0s 366us/step - loss: 2.3744 - accuracy: 0.1434\n",
      "Epoch 3/20\n",
      "357/357 [==============================] - 0s 369us/step - loss: 2.3515 - accuracy: 0.1777\n",
      "Epoch 4/20\n",
      "357/357 [==============================] - 0s 357us/step - loss: 2.3411 - accuracy: 0.1994\n",
      "Epoch 5/20\n",
      "357/357 [==============================] - 0s 347us/step - loss: 2.3336 - accuracy: 0.1993\n",
      "Epoch 6/20\n",
      "357/357 [==============================] - 0s 344us/step - loss: 2.3283 - accuracy: 0.1993\n",
      "Epoch 7/20\n",
      "357/357 [==============================] - 0s 345us/step - loss: 2.3239 - accuracy: 0.1993\n",
      "Epoch 8/20\n",
      "357/357 [==============================] - 0s 346us/step - loss: 2.3206 - accuracy: 0.1993\n",
      "Epoch 9/20\n",
      "357/357 [==============================] - 0s 342us/step - loss: 2.3177 - accuracy: 0.1994\n",
      "Epoch 10/20\n",
      "357/357 [==============================] - 0s 350us/step - loss: 2.3153 - accuracy: 0.1994\n",
      "Epoch 11/20\n",
      "357/357 [==============================] - 0s 344us/step - loss: 2.3131 - accuracy: 0.1994\n",
      "Epoch 12/20\n",
      "357/357 [==============================] - 0s 347us/step - loss: 2.3115 - accuracy: 0.1994\n",
      "Epoch 13/20\n",
      "357/357 [==============================] - 0s 339us/step - loss: 2.3099 - accuracy: 0.1994\n",
      "Epoch 14/20\n",
      "357/357 [==============================] - 0s 342us/step - loss: 2.3085 - accuracy: 0.1994\n",
      "Epoch 15/20\n",
      "357/357 [==============================] - 0s 342us/step - loss: 2.3073 - accuracy: 0.1994\n",
      "Epoch 16/20\n",
      "357/357 [==============================] - 0s 344us/step - loss: 2.3062 - accuracy: 0.1984\n",
      "Epoch 17/20\n",
      "357/357 [==============================] - 0s 339us/step - loss: 2.3054 - accuracy: 0.1978\n",
      "Epoch 18/20\n",
      "357/357 [==============================] - 0s 341us/step - loss: 2.3046 - accuracy: 0.1981\n",
      "Epoch 19/20\n",
      "357/357 [==============================] - 0s 342us/step - loss: 2.3039 - accuracy: 0.1987\n",
      "Epoch 20/20\n",
      "357/357 [==============================] - 0s 342us/step - loss: 2.3031 - accuracy: 0.1991\n"
     ]
    },
    {
     "data": {
      "text/plain": [
       "<tensorflow.python.keras.callbacks.History at 0x192060ad5b0>"
      ]
     },
     "execution_count": 52,
     "metadata": {},
     "output_type": "execute_result"
    }
   ],
   "source": [
    "#fit data\n",
    "model.fit(X_train, y_train, epochs=20)"
   ]
  },
  {
   "cell_type": "markdown",
   "id": "f8156938",
   "metadata": {},
   "source": [
    "### Findings from Neural Network (Keras)"
   ]
  },
  {
   "cell_type": "markdown",
   "id": "4c50421d",
   "metadata": {},
   "source": [
    "Our neural network model's accuracy peaked at epoch 4 with an accuracy of around 19.94%; our model's accuracy did not change a lot as the epochs progressed.  The lowest accuracy our model had was at epoch 1 with an accuracy of 14.34%\n",
    "\n",
    "With a keras neural network we cannot accurately predict a video game's genre when the game's rank, name, platform, release year, publisher, and global sales amount are known."
   ]
  },
  {
   "cell_type": "markdown",
   "id": "cc52c528",
   "metadata": {},
   "source": [
    "## Neural Network (PyTorch)\n",
    "\n",
    "Question to be answered a using pyTorch neural network: What is the highest accuracy that a video game's genre can be correctly classified when the game's rank, name, platform, release year, publisher, and global sales amount are known?"
   ]
  },
  {
   "cell_type": "code",
   "execution_count": 70,
   "id": "19a0dc75",
   "metadata": {},
   "outputs": [],
   "source": [
    "import torch\n",
    "import torch.nn as nn\n",
    "import torch.optim as optim\n",
    "import torch.nn.functional as F\n",
    "from torch.utils.data import Dataset, DataLoader, WeightedRandomSampler\n",
    "import numpy as np\n",
    "from sklearn.preprocessing import MinMaxScaler    \n",
    "from sklearn.model_selection import train_test_split\n",
    "from sklearn.metrics import confusion_matrix, classification_report\n",
    "EPOCHS = 20\n",
    "BATCH_SIZE = 64\n",
    "LEARNING_RATE = 0.007\n",
    "NUM_FEATURES = len(X.columns)\n",
    "NUM_CLASSES = 12"
   ]
  },
  {
   "cell_type": "code",
   "execution_count": 71,
   "id": "57528110",
   "metadata": {},
   "outputs": [],
   "source": [
    "#Making a copy of our data since we need to transform it\n",
    "\n",
    "vgsalesTorch = pd.read_csv('vgsales.csv')\n",
    "vgsalesTorch = vgsalesTorch.dropna()\n",
    "vgsalesTorch = vgsalesTorch.drop(['NA_Sales', 'EU_Sales', 'JP_Sales', 'Other_Sales'], axis = 1)"
   ]
  },
  {
   "cell_type": "code",
   "execution_count": 72,
   "id": "f7846694",
   "metadata": {},
   "outputs": [
    {
     "data": {
      "text/html": [
       "<div>\n",
       "<style scoped>\n",
       "    .dataframe tbody tr th:only-of-type {\n",
       "        vertical-align: middle;\n",
       "    }\n",
       "\n",
       "    .dataframe tbody tr th {\n",
       "        vertical-align: top;\n",
       "    }\n",
       "\n",
       "    .dataframe thead th {\n",
       "        text-align: right;\n",
       "    }\n",
       "</style>\n",
       "<table border=\"1\" class=\"dataframe\">\n",
       "  <thead>\n",
       "    <tr style=\"text-align: right;\">\n",
       "      <th></th>\n",
       "      <th>Rank</th>\n",
       "      <th>Name</th>\n",
       "      <th>Platform</th>\n",
       "      <th>Year</th>\n",
       "      <th>Genre</th>\n",
       "      <th>Publisher</th>\n",
       "      <th>Global_Sales</th>\n",
       "    </tr>\n",
       "  </thead>\n",
       "  <tbody>\n",
       "    <tr>\n",
       "      <th>0</th>\n",
       "      <td>1</td>\n",
       "      <td>10849</td>\n",
       "      <td>26</td>\n",
       "      <td>2006.0</td>\n",
       "      <td>10</td>\n",
       "      <td>359</td>\n",
       "      <td>82.74</td>\n",
       "    </tr>\n",
       "    <tr>\n",
       "      <th>1</th>\n",
       "      <td>2</td>\n",
       "      <td>9201</td>\n",
       "      <td>11</td>\n",
       "      <td>1985.0</td>\n",
       "      <td>4</td>\n",
       "      <td>359</td>\n",
       "      <td>40.24</td>\n",
       "    </tr>\n",
       "    <tr>\n",
       "      <th>2</th>\n",
       "      <td>3</td>\n",
       "      <td>5493</td>\n",
       "      <td>26</td>\n",
       "      <td>2008.0</td>\n",
       "      <td>6</td>\n",
       "      <td>359</td>\n",
       "      <td>35.82</td>\n",
       "    </tr>\n",
       "    <tr>\n",
       "      <th>3</th>\n",
       "      <td>4</td>\n",
       "      <td>10851</td>\n",
       "      <td>26</td>\n",
       "      <td>2009.0</td>\n",
       "      <td>10</td>\n",
       "      <td>359</td>\n",
       "      <td>33.00</td>\n",
       "    </tr>\n",
       "    <tr>\n",
       "      <th>4</th>\n",
       "      <td>5</td>\n",
       "      <td>7247</td>\n",
       "      <td>5</td>\n",
       "      <td>1996.0</td>\n",
       "      <td>7</td>\n",
       "      <td>359</td>\n",
       "      <td>31.37</td>\n",
       "    </tr>\n",
       "    <tr>\n",
       "      <th>...</th>\n",
       "      <td>...</td>\n",
       "      <td>...</td>\n",
       "      <td>...</td>\n",
       "      <td>...</td>\n",
       "      <td>...</td>\n",
       "      <td>...</td>\n",
       "      <td>...</td>\n",
       "    </tr>\n",
       "    <tr>\n",
       "      <th>16593</th>\n",
       "      <td>16596</td>\n",
       "      <td>10942</td>\n",
       "      <td>6</td>\n",
       "      <td>2002.0</td>\n",
       "      <td>4</td>\n",
       "      <td>269</td>\n",
       "      <td>0.01</td>\n",
       "    </tr>\n",
       "    <tr>\n",
       "      <th>16594</th>\n",
       "      <td>16597</td>\n",
       "      <td>5713</td>\n",
       "      <td>7</td>\n",
       "      <td>2003.0</td>\n",
       "      <td>8</td>\n",
       "      <td>241</td>\n",
       "      <td>0.01</td>\n",
       "    </tr>\n",
       "    <tr>\n",
       "      <th>16595</th>\n",
       "      <td>16598</td>\n",
       "      <td>8039</td>\n",
       "      <td>16</td>\n",
       "      <td>2008.0</td>\n",
       "      <td>6</td>\n",
       "      <td>21</td>\n",
       "      <td>0.01</td>\n",
       "    </tr>\n",
       "    <tr>\n",
       "      <th>16596</th>\n",
       "      <td>16599</td>\n",
       "      <td>4938</td>\n",
       "      <td>4</td>\n",
       "      <td>2010.0</td>\n",
       "      <td>5</td>\n",
       "      <td>8</td>\n",
       "      <td>0.01</td>\n",
       "    </tr>\n",
       "    <tr>\n",
       "      <th>16597</th>\n",
       "      <td>16600</td>\n",
       "      <td>8850</td>\n",
       "      <td>6</td>\n",
       "      <td>2003.0</td>\n",
       "      <td>4</td>\n",
       "      <td>544</td>\n",
       "      <td>0.01</td>\n",
       "    </tr>\n",
       "  </tbody>\n",
       "</table>\n",
       "<p>16291 rows × 7 columns</p>\n",
       "</div>"
      ],
      "text/plain": [
       "        Rank   Name  Platform    Year  Genre  Publisher  Global_Sales\n",
       "0          1  10849        26  2006.0     10        359         82.74\n",
       "1          2   9201        11  1985.0      4        359         40.24\n",
       "2          3   5493        26  2008.0      6        359         35.82\n",
       "3          4  10851        26  2009.0     10        359         33.00\n",
       "4          5   7247         5  1996.0      7        359         31.37\n",
       "...      ...    ...       ...     ...    ...        ...           ...\n",
       "16593  16596  10942         6  2002.0      4        269          0.01\n",
       "16594  16597   5713         7  2003.0      8        241          0.01\n",
       "16595  16598   8039        16  2008.0      6         21          0.01\n",
       "16596  16599   4938         4  2010.0      5          8          0.01\n",
       "16597  16600   8850         6  2003.0      4        544          0.01\n",
       "\n",
       "[16291 rows x 7 columns]"
      ]
     },
     "execution_count": 72,
     "metadata": {},
     "output_type": "execute_result"
    }
   ],
   "source": [
    "def characters_to_numb(*args):\n",
    "    for arg in args:\n",
    "        vgsalesTorch[arg] = pd.Categorical(vgsalesTorch[arg])\n",
    "        vgsalesTorch[arg] = vgsalesTorch[arg].cat.codes\n",
    "    return vgsalesTorch\n",
    "\n",
    "# transform specific column data to integers \n",
    "characters_to_numb(\"Name\",\"Publisher\",\"Platform\", \"Genre\")"
   ]
  },
  {
   "cell_type": "code",
   "execution_count": 73,
   "id": "1843e452",
   "metadata": {},
   "outputs": [],
   "source": [
    "X = vgsalesTorch[['Rank', 'Name', 'Platform', 'Year', 'Publisher', 'Global_Sales']]\n",
    "y = vgsalesTorch[['Genre']]\n",
    "\n",
    "# Split into train+val and test\n",
    "X_trainval, X_test, y_trainval, y_test = train_test_split(X, y, test_size=0.2, stratify=y, random_state=69)\n",
    "\n",
    "# Split train into train-val\n",
    "X_train, X_val, y_train, y_val = train_test_split(X_trainval, y_trainval, test_size=0.1, stratify=y_trainval, random_state=21)"
   ]
  },
  {
   "cell_type": "code",
   "execution_count": 74,
   "id": "a9a705fb",
   "metadata": {},
   "outputs": [],
   "source": [
    "scaler = MinMaxScaler()\n",
    "X_train = scaler.fit_transform(X_train)\n",
    "X_val = scaler.transform(X_val)\n",
    "X_test = scaler.transform(X_test)\n",
    "X_train, y_train = np.array(X_train), np.array(y_train)\n",
    "X_val, y_val = np.array(X_val), np.array(y_val)\n",
    "X_test, y_test = np.array(X_test), np.array(y_test)"
   ]
  },
  {
   "cell_type": "code",
   "execution_count": 75,
   "id": "cf2a6e74",
   "metadata": {},
   "outputs": [],
   "source": [
    "class ClassifierDataset(Dataset):\n",
    "    \n",
    "    def __init__(self, X_data, y_data):\n",
    "        self.X_data = X_data\n",
    "        self.y_data = y_data\n",
    "        \n",
    "    def __getitem__(self, index):\n",
    "        return self.X_data[index], self.y_data[index]\n",
    "        \n",
    "    def __len__ (self):\n",
    "        return len(self.X_data)\n",
    "\n",
    "\n",
    "train_dataset = ClassifierDataset(torch.from_numpy(X_train).float(), torch.from_numpy(y_train).long())\n",
    "val_dataset = ClassifierDataset(torch.from_numpy(X_val).float(), torch.from_numpy(y_val).long())\n",
    "test_dataset = ClassifierDataset(torch.from_numpy(X_test).float(), torch.from_numpy(y_test).long())"
   ]
  },
  {
   "cell_type": "code",
   "execution_count": 76,
   "id": "7053d877",
   "metadata": {},
   "outputs": [],
   "source": [
    "def get_class_distribution(obj):\n",
    "    count_dict = {\n",
    "        \"genre_0\": 0,\n",
    "        \"genre_1\": 0,\n",
    "        \"genre_2\": 0,\n",
    "        \"genre_3\": 0,\n",
    "        \"genre_4\": 0,\n",
    "        \"genre_5\": 0,\n",
    "        \"genre_6\": 0,\n",
    "        \"genre_7\": 0,\n",
    "        \"genre_8\": 0,\n",
    "        \"genre_9\": 0,\n",
    "        \"genre_10\": 0,\n",
    "        \"genre_11\": 0\n",
    "    }\n",
    "    \n",
    "    for i in obj:\n",
    "        if i == 0: \n",
    "            count_dict['genre_0'] += 1\n",
    "        elif i == 1: \n",
    "            count_dict['genre_1'] += 1\n",
    "        elif i == 2: \n",
    "            count_dict['genre_2'] += 1\n",
    "        elif i == 3: \n",
    "            count_dict['genre_3'] += 1\n",
    "        elif i == 4: \n",
    "            count_dict['genre_4'] += 1  \n",
    "        elif i == 5: \n",
    "            count_dict['genre_5'] += 1\n",
    "        elif i == 6:\n",
    "            count_dict['genre_6'] += 1   \n",
    "        elif i == 7:\n",
    "            count_dict['genre_7'] += 1\n",
    "        elif i == 8:\n",
    "            count_dict['genre_8'] += 1\n",
    "        elif i == 9:\n",
    "            count_dict['genre_9'] += 1\n",
    "        elif i == 10:\n",
    "            count_dict['genre_10'] += 1\n",
    "        elif i == 11:\n",
    "            count_dict['genre_11'] += 1           \n",
    "        else:\n",
    "            print(\"Check classes.\")\n",
    "            \n",
    "    return count_dict"
   ]
  },
  {
   "cell_type": "code",
   "execution_count": 77,
   "id": "8d0c9dfc",
   "metadata": {},
   "outputs": [],
   "source": [
    "target_list = []\n",
    "for _, t in train_dataset:\n",
    "    target_list.append(t)\n",
    "    \n",
    "target_list = torch.tensor(target_list)"
   ]
  },
  {
   "cell_type": "code",
   "execution_count": 78,
   "id": "808042b9",
   "metadata": {},
   "outputs": [
    {
     "name": "stdout",
     "output_type": "stream",
     "text": [
      "tensor([0.0004, 0.0011, 0.0017, 0.0008, 0.0016, 0.0024, 0.0011, 0.0009, 0.0011,\n",
      "        0.0016, 0.0006, 0.0021])\n"
     ]
    }
   ],
   "source": [
    "class_count = [i for i in get_class_distribution(y_train).values()]\n",
    "class_weights = 1./torch.tensor(class_count, dtype=torch.float) \n",
    "print(class_weights)"
   ]
  },
  {
   "cell_type": "code",
   "execution_count": 79,
   "id": "c67731b9",
   "metadata": {},
   "outputs": [],
   "source": [
    "class_weights_all = class_weights[target_list]"
   ]
  },
  {
   "cell_type": "code",
   "execution_count": 80,
   "id": "6f8812fb",
   "metadata": {},
   "outputs": [],
   "source": [
    "weighted_sampler = WeightedRandomSampler(\n",
    "    weights=class_weights_all,\n",
    "    num_samples=len(class_weights_all),\n",
    "    replacement=True\n",
    ")"
   ]
  },
  {
   "cell_type": "code",
   "execution_count": 81,
   "id": "62ca2452",
   "metadata": {},
   "outputs": [],
   "source": [
    "train_loader = DataLoader(dataset=train_dataset,\n",
    "                          batch_size=BATCH_SIZE,\n",
    "                          sampler=weighted_sampler\n",
    ")\n",
    "val_loader = DataLoader(dataset=val_dataset, batch_size=1)\n",
    "test_loader = DataLoader(dataset=test_dataset, batch_size=1)"
   ]
  },
  {
   "cell_type": "code",
   "execution_count": 82,
   "id": "78f9d04c",
   "metadata": {},
   "outputs": [],
   "source": [
    "class MulticlassClassification(nn.Module):\n",
    "    def __init__(self, num_feature, num_class):\n",
    "        super(MulticlassClassification, self).__init__()\n",
    "        \n",
    "        self.layer_1 = nn.Linear(num_feature, 512)\n",
    "        self.layer_2 = nn.Linear(512, 128)\n",
    "        self.layer_3 = nn.Linear(128, 64)\n",
    "        self.layer_out = nn.Linear(64, num_class) \n",
    "        \n",
    "        self.relu = nn.ReLU()\n",
    "        self.dropout = nn.Dropout(p=0.2)\n",
    "        self.batchnorm1 = nn.BatchNorm1d(512)\n",
    "        self.batchnorm2 = nn.BatchNorm1d(128)\n",
    "        self.batchnorm3 = nn.BatchNorm1d(64)\n",
    "        \n",
    "    def forward(self, x):\n",
    "        x = self.layer_1(x)\n",
    "        x = self.batchnorm1(x)\n",
    "        x = self.relu(x)\n",
    "        \n",
    "        x = self.layer_2(x)\n",
    "        x = self.batchnorm2(x)\n",
    "        x = self.relu(x)\n",
    "        x = self.dropout(x)\n",
    "        \n",
    "        x = self.layer_3(x)\n",
    "        x = self.batchnorm3(x)\n",
    "        x = self.relu(x)\n",
    "        x = self.dropout(x)\n",
    "        \n",
    "        x = self.layer_out(x)\n",
    "        \n",
    "        return x"
   ]
  },
  {
   "cell_type": "code",
   "execution_count": 83,
   "id": "cfa31289",
   "metadata": {},
   "outputs": [
    {
     "name": "stdout",
     "output_type": "stream",
     "text": [
      "cuda:0\n"
     ]
    }
   ],
   "source": [
    "device = torch.device(\"cuda:0\" if torch.cuda.is_available() else \"cpu\")\n",
    "print(device)"
   ]
  },
  {
   "cell_type": "code",
   "execution_count": 84,
   "id": "a46a7a00",
   "metadata": {},
   "outputs": [
    {
     "name": "stdout",
     "output_type": "stream",
     "text": [
      "MulticlassClassification(\n",
      "  (layer_1): Linear(in_features=6, out_features=512, bias=True)\n",
      "  (layer_2): Linear(in_features=512, out_features=128, bias=True)\n",
      "  (layer_3): Linear(in_features=128, out_features=64, bias=True)\n",
      "  (layer_out): Linear(in_features=64, out_features=12, bias=True)\n",
      "  (relu): ReLU()\n",
      "  (dropout): Dropout(p=0.2, inplace=False)\n",
      "  (batchnorm1): BatchNorm1d(512, eps=1e-05, momentum=0.1, affine=True, track_running_stats=True)\n",
      "  (batchnorm2): BatchNorm1d(128, eps=1e-05, momentum=0.1, affine=True, track_running_stats=True)\n",
      "  (batchnorm3): BatchNorm1d(64, eps=1e-05, momentum=0.1, affine=True, track_running_stats=True)\n",
      ")\n"
     ]
    }
   ],
   "source": [
    "model = MulticlassClassification(num_feature = NUM_FEATURES, num_class=NUM_CLASSES)\n",
    "model.to(device)\n",
    "\n",
    "criterion = nn.CrossEntropyLoss(weight=class_weights.to(device))\n",
    "optimizer = optim.Adam(model.parameters(), lr=LEARNING_RATE)\n",
    "print(model)"
   ]
  },
  {
   "cell_type": "code",
   "execution_count": 85,
   "id": "aefc7698",
   "metadata": {},
   "outputs": [],
   "source": [
    "def multi_acc(y_pred, y_test):\n",
    "    y_pred_softmax = torch.log_softmax(y_pred, dim = 1)\n",
    "    _, y_pred_tags = torch.max(y_pred_softmax, dim = 1)    \n",
    "    \n",
    "    correct_pred = (y_pred_tags == y_test).float()\n",
    "    acc = correct_pred.sum() / len(correct_pred)\n",
    "    \n",
    "    acc = torch.round(acc * 100)\n",
    "    \n",
    "    return acc"
   ]
  },
  {
   "cell_type": "code",
   "execution_count": 86,
   "id": "9ec53d19",
   "metadata": {},
   "outputs": [],
   "source": [
    "accuracy_stats = {\n",
    "    'train': [],\n",
    "    \"val\": []\n",
    "}\n",
    "loss_stats = {\n",
    "    'train': [],\n",
    "    \"val\": []\n",
    "}"
   ]
  },
  {
   "cell_type": "code",
   "execution_count": 87,
   "id": "5ada213d",
   "metadata": {},
   "outputs": [
    {
     "name": "stdout",
     "output_type": "stream",
     "text": [
      "Begin training.\n",
      "Epoch 001: | Train Loss: 2.30151 | Val Loss: 2.65506 | Train Acc: 15.478| Val Acc: 12.117\n",
      "Epoch 002: | Train Loss: 2.24482 | Val Loss: 2.64177 | Train Acc: 17.027| Val Acc: 12.423\n",
      "Epoch 003: | Train Loss: 2.20995 | Val Loss: 2.62286 | Train Acc: 18.190| Val Acc: 11.810\n",
      "Epoch 004: | Train Loss: 2.20348 | Val Loss: 2.57897 | Train Acc: 18.821| Val Acc: 12.807\n",
      "Epoch 005: | Train Loss: 2.17696 | Val Loss: 2.61914 | Train Acc: 19.391| Val Acc: 12.193\n",
      "Epoch 006: | Train Loss: 2.16486 | Val Loss: 2.62272 | Train Acc: 19.620| Val Acc: 13.267\n",
      "Epoch 007: | Train Loss: 2.15371 | Val Loss: 2.57049 | Train Acc: 20.185| Val Acc: 13.727\n",
      "Epoch 008: | Train Loss: 2.14507 | Val Loss: 2.61259 | Train Acc: 20.326| Val Acc: 14.340\n",
      "Epoch 009: | Train Loss: 2.14652 | Val Loss: 2.57685 | Train Acc: 20.321| Val Acc: 13.880\n",
      "Epoch 010: | Train Loss: 2.12081 | Val Loss: 2.54846 | Train Acc: 20.549| Val Acc: 13.650\n",
      "Epoch 011: | Train Loss: 2.11946 | Val Loss: 2.60730 | Train Acc: 21.516| Val Acc: 14.494\n",
      "Epoch 012: | Train Loss: 2.11072 | Val Loss: 2.59573 | Train Acc: 21.668| Val Acc: 14.647\n",
      "Epoch 013: | Train Loss: 2.11714 | Val Loss: 2.53512 | Train Acc: 21.603| Val Acc: 15.491\n",
      "Epoch 014: | Train Loss: 2.11376 | Val Loss: 2.53063 | Train Acc: 21.788| Val Acc: 15.031\n",
      "Epoch 015: | Train Loss: 2.08454 | Val Loss: 2.59978 | Train Acc: 22.342| Val Acc: 13.880\n",
      "Epoch 016: | Train Loss: 2.10268 | Val Loss: 2.56485 | Train Acc: 21.484| Val Acc: 15.031\n",
      "Epoch 017: | Train Loss: 2.09129 | Val Loss: 2.54369 | Train Acc: 22.348| Val Acc: 14.494\n",
      "Epoch 018: | Train Loss: 2.06489 | Val Loss: 2.56103 | Train Acc: 22.810| Val Acc: 13.344\n",
      "Epoch 019: | Train Loss: 2.06217 | Val Loss: 2.58733 | Train Acc: 23.141| Val Acc: 14.647\n",
      "Epoch 020: | Train Loss: 2.07095 | Val Loss: 2.51151 | Train Acc: 23.060| Val Acc: 15.567\n"
     ]
    }
   ],
   "source": [
    "print(\"Begin training.\")\n",
    "for e in range(1, EPOCHS+1):\n",
    "    \n",
    "    # TRAINING\n",
    "    train_epoch_loss = 0\n",
    "    train_epoch_acc = 0\n",
    "    model.train()\n",
    "    for X_train_batch, y_train_batch in train_loader:\n",
    "        X_train_batch, y_train_batch = X_train_batch.to(device), torch.flatten(y_train_batch.to(device))\n",
    "        optimizer.zero_grad()\n",
    "        \n",
    "        y_train_pred = model(X_train_batch)\n",
    "        \n",
    "        train_loss = criterion(y_train_pred, y_train_batch)\n",
    "        train_acc = multi_acc(y_train_pred, y_train_batch)\n",
    "        \n",
    "        train_loss.backward()\n",
    "        optimizer.step()\n",
    "        \n",
    "        train_epoch_loss += train_loss.item()\n",
    "        train_epoch_acc += train_acc.item()\n",
    "        \n",
    "        \n",
    "    # VALIDATION    \n",
    "    with torch.no_grad():\n",
    "        \n",
    "        val_epoch_loss = 0\n",
    "        val_epoch_acc = 0\n",
    "        \n",
    "        model.eval()\n",
    "        for X_val_batch, y_val_batch in val_loader:\n",
    "            X_val_batch, y_val_batch = X_val_batch.to(device), torch.flatten(y_val_batch.to(device))\n",
    "            \n",
    "            y_val_pred = model(X_val_batch)\n",
    "                        \n",
    "            val_loss = criterion(y_val_pred, y_val_batch)\n",
    "            val_acc = multi_acc(y_val_pred, y_val_batch)\n",
    "            \n",
    "            val_epoch_loss += val_loss.item()\n",
    "            val_epoch_acc += val_acc.item()\n",
    "    loss_stats['train'].append(train_epoch_loss/len(train_loader))\n",
    "    loss_stats['val'].append(val_epoch_loss/len(val_loader))\n",
    "    accuracy_stats['train'].append(train_epoch_acc/len(train_loader))\n",
    "    accuracy_stats['val'].append(val_epoch_acc/len(val_loader))\n",
    "                              \n",
    "    \n",
    "    print(f'Epoch {e+0:03}: | Train Loss: {train_epoch_loss/len(train_loader):.5f} | Val Loss: {val_epoch_loss/len(val_loader):.5f} | Train Acc: {train_epoch_acc/len(train_loader):.3f}| Val Acc: {val_epoch_acc/len(val_loader):.3f}')"
   ]
  },
  {
   "cell_type": "markdown",
   "id": "81ba708e",
   "metadata": {},
   "source": [
    "## Findings from Neural Network (PyTorch)\n",
    "Using Pytorch, the model has an accuracy of ~15%. The accuracy fluctuated after each epoch, with the lowest accuracy recorded at 11.810%. This means that at it's peak, this model cannot accurately classify a video game's genre when the game's rank, name, platform, release year, publisher, and global sales amount are known."
   ]
  },
  {
   "cell_type": "markdown",
   "id": "9f0e27d8",
   "metadata": {},
   "source": []
  },
  {
   "cell_type": "code",
   "execution_count": null,
   "id": "b11a513d",
   "metadata": {},
   "outputs": [],
   "source": []
  }
 ],
 "metadata": {
  "kernelspec": {
   "display_name": "Python 3",
   "language": "python",
   "name": "python3"
  },
  "language_info": {
   "codemirror_mode": {
    "name": "ipython",
    "version": 3
   },
   "file_extension": ".py",
   "mimetype": "text/x-python",
   "name": "python",
   "nbconvert_exporter": "python",
   "pygments_lexer": "ipython3",
   "version": "3.8.8"
  }
 },
 "nbformat": 4,
 "nbformat_minor": 5
}
